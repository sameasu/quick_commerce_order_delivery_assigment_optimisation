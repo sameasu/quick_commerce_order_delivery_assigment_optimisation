{
 "cells": [
  {
   "cell_type": "markdown",
   "metadata": {},
   "source": [
    "#### Acknowledgement to the faculty who taught the Optimisation subject at Jio Institute for helping with the formulation discussions and guidance"
   ]
  },
  {
   "cell_type": "markdown",
   "metadata": {},
   "source": [
    "# Delivery Assignment Problem"
   ]
  },
  {
   "cell_type": "code",
   "execution_count": 1,
   "metadata": {},
   "outputs": [],
   "source": [
    "from ortools.linear_solver import pywraplp\n",
    "import pandas as pd"
   ]
  },
  {
   "cell_type": "code",
   "execution_count": 2,
   "metadata": {},
   "outputs": [],
   "source": [
    "orders_df = pd.read_csv('/Users/maulikruparel/Documents/AIandDS/RandomPractice/optimisation/data/Sample_Orders.csv')"
   ]
  },
  {
   "cell_type": "code",
   "execution_count": 3,
   "metadata": {},
   "outputs": [
    {
     "data": {
      "text/html": [
       "<div>\n",
       "<style scoped>\n",
       "    .dataframe tbody tr th:only-of-type {\n",
       "        vertical-align: middle;\n",
       "    }\n",
       "\n",
       "    .dataframe tbody tr th {\n",
       "        vertical-align: top;\n",
       "    }\n",
       "\n",
       "    .dataframe thead th {\n",
       "        text-align: right;\n",
       "    }\n",
       "</style>\n",
       "<table border=\"1\" class=\"dataframe\">\n",
       "  <thead>\n",
       "    <tr style=\"text-align: right;\">\n",
       "      <th></th>\n",
       "      <th>store_id</th>\n",
       "      <th>store_latitude</th>\n",
       "      <th>store_longitude</th>\n",
       "      <th>customer_latitude</th>\n",
       "      <th>customer_longitude</th>\n",
       "      <th>order_time</th>\n",
       "      <th>order_id</th>\n",
       "      <th>time_promise</th>\n",
       "      <th>ord_packing_time</th>\n",
       "      <th>price</th>\n",
       "      <th>distance</th>\n",
       "    </tr>\n",
       "  </thead>\n",
       "  <tbody>\n",
       "    <tr>\n",
       "      <th>0</th>\n",
       "      <td>1</td>\n",
       "      <td>12.988047</td>\n",
       "      <td>77.598497</td>\n",
       "      <td>13.016825</td>\n",
       "      <td>77.578845</td>\n",
       "      <td>18-Mar-2024 12:22PM</td>\n",
       "      <td>88184699</td>\n",
       "      <td>34</td>\n",
       "      <td>11</td>\n",
       "      <td>325</td>\n",
       "      <td>3.843544</td>\n",
       "    </tr>\n",
       "    <tr>\n",
       "      <th>1</th>\n",
       "      <td>1</td>\n",
       "      <td>12.988047</td>\n",
       "      <td>77.598497</td>\n",
       "      <td>12.992958</td>\n",
       "      <td>77.607472</td>\n",
       "      <td>18-Mar-2024 12:19PM</td>\n",
       "      <td>74788581</td>\n",
       "      <td>26</td>\n",
       "      <td>12</td>\n",
       "      <td>578</td>\n",
       "      <td>1.115243</td>\n",
       "    </tr>\n",
       "    <tr>\n",
       "      <th>2</th>\n",
       "      <td>1</td>\n",
       "      <td>12.988047</td>\n",
       "      <td>77.598497</td>\n",
       "      <td>13.006920</td>\n",
       "      <td>77.612363</td>\n",
       "      <td>18-Mar-2024 12:19PM</td>\n",
       "      <td>50443196</td>\n",
       "      <td>29</td>\n",
       "      <td>10</td>\n",
       "      <td>279</td>\n",
       "      <td>2.580831</td>\n",
       "    </tr>\n",
       "    <tr>\n",
       "      <th>3</th>\n",
       "      <td>1</td>\n",
       "      <td>12.988047</td>\n",
       "      <td>77.598497</td>\n",
       "      <td>13.015495</td>\n",
       "      <td>77.592164</td>\n",
       "      <td>18-Mar-2024 12:22PM</td>\n",
       "      <td>74272493</td>\n",
       "      <td>29</td>\n",
       "      <td>12</td>\n",
       "      <td>645</td>\n",
       "      <td>3.128245</td>\n",
       "    </tr>\n",
       "    <tr>\n",
       "      <th>4</th>\n",
       "      <td>1</td>\n",
       "      <td>12.988047</td>\n",
       "      <td>77.598497</td>\n",
       "      <td>12.973296</td>\n",
       "      <td>77.605567</td>\n",
       "      <td>18-Mar-2024 12:20PM</td>\n",
       "      <td>99415675</td>\n",
       "      <td>16</td>\n",
       "      <td>9</td>\n",
       "      <td>433</td>\n",
       "      <td>1.810360</td>\n",
       "    </tr>\n",
       "  </tbody>\n",
       "</table>\n",
       "</div>"
      ],
      "text/plain": [
       "   store_id  store_latitude  store_longitude  customer_latitude  \\\n",
       "0         1       12.988047        77.598497          13.016825   \n",
       "1         1       12.988047        77.598497          12.992958   \n",
       "2         1       12.988047        77.598497          13.006920   \n",
       "3         1       12.988047        77.598497          13.015495   \n",
       "4         1       12.988047        77.598497          12.973296   \n",
       "\n",
       "   customer_longitude           order_time  order_id  time_promise  \\\n",
       "0           77.578845  18-Mar-2024 12:22PM  88184699            34   \n",
       "1           77.607472  18-Mar-2024 12:19PM  74788581            26   \n",
       "2           77.612363  18-Mar-2024 12:19PM  50443196            29   \n",
       "3           77.592164  18-Mar-2024 12:22PM  74272493            29   \n",
       "4           77.605567  18-Mar-2024 12:20PM  99415675            16   \n",
       "\n",
       "   ord_packing_time  price  distance  \n",
       "0                11    325  3.843544  \n",
       "1                12    578  1.115243  \n",
       "2                10    279  2.580831  \n",
       "3                12    645  3.128245  \n",
       "4                 9    433  1.810360  "
      ]
     },
     "execution_count": 3,
     "metadata": {},
     "output_type": "execute_result"
    }
   ],
   "source": [
    "orders_df.head()"
   ]
  },
  {
   "cell_type": "code",
   "execution_count": 4,
   "metadata": {},
   "outputs": [],
   "source": [
    "executives_df = pd.read_csv('/Users/maulikruparel/Documents/AIandDS/RandomPractice/optimisation/data/Sample_Executives.csv')"
   ]
  },
  {
   "cell_type": "code",
   "execution_count": 5,
   "metadata": {},
   "outputs": [
    {
     "data": {
      "text/html": [
       "<div>\n",
       "<style scoped>\n",
       "    .dataframe tbody tr th:only-of-type {\n",
       "        vertical-align: middle;\n",
       "    }\n",
       "\n",
       "    .dataframe tbody tr th {\n",
       "        vertical-align: top;\n",
       "    }\n",
       "\n",
       "    .dataframe thead th {\n",
       "        text-align: right;\n",
       "    }\n",
       "</style>\n",
       "<table border=\"1\" class=\"dataframe\">\n",
       "  <thead>\n",
       "    <tr style=\"text-align: right;\">\n",
       "      <th></th>\n",
       "      <th>de_id</th>\n",
       "      <th>de_latitude</th>\n",
       "      <th>de_longitude</th>\n",
       "      <th>de_time_to_free</th>\n",
       "    </tr>\n",
       "  </thead>\n",
       "  <tbody>\n",
       "    <tr>\n",
       "      <th>163</th>\n",
       "      <td>67584926</td>\n",
       "      <td>12.955229</td>\n",
       "      <td>77.562548</td>\n",
       "      <td>0</td>\n",
       "    </tr>\n",
       "    <tr>\n",
       "      <th>96</th>\n",
       "      <td>67584993</td>\n",
       "      <td>12.937388</td>\n",
       "      <td>77.624469</td>\n",
       "      <td>4</td>\n",
       "    </tr>\n",
       "    <tr>\n",
       "      <th>138</th>\n",
       "      <td>67584951</td>\n",
       "      <td>12.964309</td>\n",
       "      <td>77.606223</td>\n",
       "      <td>9</td>\n",
       "    </tr>\n",
       "    <tr>\n",
       "      <th>118</th>\n",
       "      <td>67584971</td>\n",
       "      <td>12.973788</td>\n",
       "      <td>77.574160</td>\n",
       "      <td>5</td>\n",
       "    </tr>\n",
       "    <tr>\n",
       "      <th>142</th>\n",
       "      <td>67584947</td>\n",
       "      <td>12.941577</td>\n",
       "      <td>77.570455</td>\n",
       "      <td>1</td>\n",
       "    </tr>\n",
       "  </tbody>\n",
       "</table>\n",
       "</div>"
      ],
      "text/plain": [
       "        de_id  de_latitude  de_longitude  de_time_to_free\n",
       "163  67584926    12.955229     77.562548                0\n",
       "96   67584993    12.937388     77.624469                4\n",
       "138  67584951    12.964309     77.606223                9\n",
       "118  67584971    12.973788     77.574160                5\n",
       "142  67584947    12.941577     77.570455                1"
      ]
     },
     "execution_count": 5,
     "metadata": {},
     "output_type": "execute_result"
    }
   ],
   "source": [
    "executives_df.sample(5)"
   ]
  },
  {
   "cell_type": "markdown",
   "metadata": {},
   "source": [
    "## OR-tools based"
   ]
  },
  {
   "cell_type": "code",
   "execution_count": 6,
   "metadata": {},
   "outputs": [],
   "source": [
    "# Create the solver instance\n",
    "solver = pywraplp.Solver.CreateSolver('SCIP')\n",
    "if not solver:\n",
    "    raise Exception(\"Solver not found!\")\n"
   ]
  },
  {
   "cell_type": "markdown",
   "metadata": {},
   "source": [
    "## Decision Variable\n",
    "**\\( X_{ij} \\):** Binary decision variable where:\n",
    "- \\( X_{ij} = 1 \\): Order \\( i \\) is assigned to delivery executive \\( j \\).\n",
    "- \\( X_{ij} = 0 \\): Order \\( i \\) is not assigned to delivery executive \\( j \\).\n"
   ]
  },
  {
   "cell_type": "code",
   "execution_count": 60,
   "metadata": {},
   "outputs": [],
   "source": [
    "num_executives = len(executives_df)\n",
    "num_orders = len(orders_df)"
   ]
  },
  {
   "cell_type": "code",
   "execution_count": 9,
   "metadata": {},
   "outputs": [],
   "source": [
    "x = {}\n",
    "for i in range(num_orders):\n",
    "    for j in range(num_executives):\n",
    "        x[i, j] = solver.BoolVar(f'x[{i},{j}]')"
   ]
  },
  {
   "cell_type": "markdown",
   "metadata": {},
   "source": [
    "## Objective Function:\n",
    "The objective is to **minimize the total cost**, which consists of three components:\n",
    "\n",
    "### 1. Cost of Delivery:\n",
    "$$\n",
    "\\text{Cost of Delivery} = f(d_{ij}) + f(t_{ij})\n",
    "$$\n",
    "- $ f(d_{ij}) $: Cost based on the distance between order $ i $ and delivery executive $ j $.\n",
    "- $ f(t_{ij}) $: Cost based on the time taken to deliver order $ i $ by delivery executive $ j $ (e.g., wait time).\n",
    "\n",
    "---\n",
    "\n",
    "### 2. Customer Experience:\n",
    "**Customer Experience** = f(delay<sub>ij</sub>)\n",
    "\n",
    "where:\n",
    "\n",
    "* **delay<sub>ij</sub> = delivery time - promise time**: The delay for order *i* assigned to delivery executive *j*.\n",
    "* **f(delay<sub>ij</sub>)**: A penalty function that increases with the delay, reflecting the impact on customer satisfaction.\n",
    "\n",
    "### 3. Unassignment Penalty:\n",
    "\n",
    "**Unassignment Penalty** = [1 - ∑<sub>j</sub> X<sub>ij</sub>] * f(all delays<sub>ij</sub>)\n",
    "\n",
    "where:\n",
    "\n",
    "* **∑<sub>j</sub> X<sub>ij</sub>**: Sum of assignments for order *i* across all delivery executives *j*. If ∑<sub>j</sub> X<sub>ij</sub> = 0, the order is unassigned.\n",
    "* **[1 - ∑<sub>j</sub> X<sub>ij</sub>]**: Equals 1 if the order is unassigned, 0 otherwise.\n",
    "* **f(all delays<sub>ij</sub>)**: A penalty function applied to unassigned orders, reflecting the cost of leaving an order unfulfilled.\n",
    "---\n",
    "\n",
    "### Final Objective Function:\n",
    "**Minimize:** \n",
    "\n",
    "∑<sub>i,j</sub> X<sub>ij</sub> * (f(d<sub>ij</sub>) + f(t<sub>ij</sub>) + f(delay<sub>ij</sub>)) + ∑<sub>i</sub> [1 - ∑<sub>j</sub> X<sub>ij</sub>] * f(all delays<sub>ij</sub>)"
   ]
  },
  {
   "cell_type": "code",
   "execution_count": 10,
   "metadata": {},
   "outputs": [],
   "source": [
    "# Assumptions\n",
    "cost_per_km = 2             # Cost per kilometer\n",
    "speed_km_per_min = 0.5      # Speed of travel in km/min\n",
    "wait_time_cost = 1          # Cost per min\n",
    "\n",
    "# Helper function to calculate haversine distance\n",
    "def haversine(lat1, lon1, lat2, lon2):\n",
    "    \"\"\"\n",
    "    Calculate the great-circle distance between two points on the Earth.\n",
    "    \"\"\"\n",
    "    R = 6371  # Radius of Earth in km\n",
    "    lat1, lon1, lat2, lon2 = map(np.radians, [lat1, lon1, lat2, lon2])\n",
    "    dlat = lat2 - lat1\n",
    "    dlon = lon2 - lon1\n",
    "    a = np.sin(dlat / 2) ** 2 + np.cos(lat1) * np.cos(lat2) * np.sin(dlon / 2) ** 2\n",
    "    c = 2 * np.arcsin(np.sqrt(a))\n",
    "    return R * c  # Distance in km"
   ]
  },
  {
   "cell_type": "code",
   "execution_count": 11,
   "metadata": {},
   "outputs": [],
   "source": [
    "# Cost linked to the distance required to execute the order delivery \n",
    "distance_cost = np.zeros((num_orders,num_executives))\n",
    "\n",
    "# Cost linked to the waiting period asosciated with an order & delivery executive in case delivery exec. arrives at store earlier than the order pacaking time.\n",
    "time_cost = np.zeros((num_orders,num_executives)) #waiting time related cost\n",
    "\n",
    "# Time needed to complete an order by a given delivery executive.\n",
    "order_time_matrix = np.zeros((num_orders,num_executives))\n",
    "\n",
    "#Penalty associated with the order and a given delivery executive in case the order delivery time exceed the time promised.\n",
    "delay_penalty = np.zeros((num_orders,num_executives))\n",
    "\n",
    "# Cost associated with the order in case a delivery executive could not be assigned.\n",
    "unassignment_cost = np.zeros((num_orders,1))"
   ]
  },
  {
   "cell_type": "code",
   "execution_count": 12,
   "metadata": {},
   "outputs": [],
   "source": [
    "for j, exec_row in executives_df.iterrows():\n",
    "    for i, order_row in orders_df.iterrows():\n",
    "        \n",
    "        # Distance from executive to store\n",
    "        dist_exec_to_store = haversine(\n",
    "                                        exec_row[\"de_latitude\"], exec_row[\"de_longitude\"],\n",
    "                                        order_row[\"store_latitude\"], order_row[\"store_longitude\"]\n",
    "                                    )\n",
    "        \n",
    "        # Distance from store to customer\n",
    "        dist_store_to_customer = haversine(\n",
    "                                            order_row[\"store_latitude\"], order_row[\"store_longitude\"],\n",
    "                                            order_row[\"customer_latitude\"], order_row[\"customer_longitude\"]\n",
    "                                        )\n",
    "        \n",
    "        total_distance = dist_exec_to_store + dist_store_to_customer\n",
    "        \n",
    "        '''########## Filling the matrices values #####################'''\n",
    "\n",
    "\n",
    "        # Distance cost matrix\n",
    "        distance_cost[i, j] = cost_per_km * total_distance        \n",
    "\n",
    "        \n",
    "        #Time cost matrix\n",
    "        time_exec_to_store = exec_row['de_time_to_free'] + (dist_exec_to_store / speed_km_per_min)\n",
    "        time_store_to_customer = dist_store_to_customer / speed_km_per_min\n",
    "    \n",
    "        ord_packing_time = order_row['ord_packing_time']\n",
    "        time_cost[i,j] = max(0, ord_packing_time - time_exec_to_store) * wait_time_cost\n",
    "\n",
    "        \n",
    "        # Order delivery time matrix\n",
    "        order_time_matrix[i,j] = time_exec_to_store + max(0, ord_packing_time - time_exec_to_store) + time_store_to_customer\n",
    "        \n",
    "        # Delay incurred = order_delivery_time - time promised\n",
    "        time_promise = order_row['time_promise']\n",
    "        delay = time_exec_to_store + max(0, ord_packing_time - time_exec_to_store) + time_store_to_customer - time_promise\n",
    "\n",
    "        delay_penalty[i,j] = 100/delay # more delayed a customer, lesser the cost so that largest delayed order gets assigned first at a particular time instant of decision making.\n",
    "\n",
    "# unassignment penalty matrix\n",
    "unassignment_cost = orders_df.price.to_numpy().reshape((num_orders,1))\n",
    "        "
   ]
  },
  {
   "cell_type": "code",
   "execution_count": 13,
   "metadata": {},
   "outputs": [],
   "source": [
    "# Creating objective function instance\n",
    "objective = solver.Objective()"
   ]
  },
  {
   "cell_type": "code",
   "execution_count": 14,
   "metadata": {},
   "outputs": [],
   "source": [
    "# Building the objective function for minimizing total cost\n",
    "objective = solver.Sum(\n",
    "    x[i, j] * (distance_cost[i, j] + time_cost[i, j] + delay_penalty[i, j])\n",
    "    for i in range(num_orders)\n",
    "    for j in range(num_executives)\n",
    ")\n",
    "\n",
    "# Add unassignment penalty to the objective\n",
    "unassignment_penalty = solver.Sum(\n",
    "    (1 - solver.Sum(x[i, j] for j in range(num_executives))) * unassignment_cost[i].item()\n",
    "    for i in range(num_orders)\n",
    ")\n",
    "\n",
    "# Combine the two components into the final objective\n",
    "solver.Minimize(objective + unassignment_penalty)"
   ]
  },
  {
   "cell_type": "markdown",
   "metadata": {},
   "source": [
    "## Constraints:\n",
    "\n",
    "1. **One Order Per Delivery Executive:**\n",
    "\n",
    "   ∑<sub>i</sub> X<sub>ij</sub> = 1 ∀ j\n",
    "\n",
    "   - Each delivery executive *j* must be assigned exactly one order.\n",
    "\n",
    "2. **One Delivery Executive Per Order:**\n",
    "\n",
    "   ∑<sub>j</sub> X<sub>ij</sub> ≤ 1 ∀ i\n",
    "\n",
    "   - Each order *i* can be assigned to at most one delivery executive."
   ]
  },
  {
   "cell_type": "code",
   "execution_count": 15,
   "metadata": {},
   "outputs": [],
   "source": [
    "# Constraints\n",
    "# 1. Each order is assigned to only one executive\n",
    "for i in range(num_orders):\n",
    "    solver.Add(solver.Sum(x[i, j] for j in range(num_executives)) <= 1)\n",
    "\n",
    "# 2. Each order is assigned to atmost one executive\n",
    "for j in range(num_executives):\n",
    "    solver.Add(solver.Sum(x[i, j] for i in range(num_orders)) == 1)\n"
   ]
  },
  {
   "cell_type": "markdown",
   "metadata": {},
   "source": [
    "### Solving"
   ]
  },
  {
   "cell_type": "code",
   "execution_count": 20,
   "metadata": {},
   "outputs": [],
   "source": [
    "# Solve the problem\n",
    "solver.Minimize(objective)\n",
    "\n",
    "status = solver.Solve()"
   ]
  },
  {
   "cell_type": "code",
   "execution_count": 54,
   "metadata": {},
   "outputs": [
    {
     "name": "stdout",
     "output_type": "stream",
     "text": [
      "Optimal solution found!\n"
     ]
    }
   ],
   "source": [
    "# Prepare the output as a DataFrame\n",
    "if status == pywraplp.Solver.OPTIMAL:\n",
    "    print(\"Optimal solution found!\")\n",
    "    assignments = []\n",
    "    for i in range(num_orders):\n",
    "        for j in range(num_executives):\n",
    "            if x[i, j].solution_value() > 0.5:  # If assigned\n",
    "                assignments.append({\n",
    "                    \"assigned_executive_id\": executives_df.loc[j, \"de_id\"],\n",
    "                    \"order_id\": orders_df.loc[i, \"order_id\"],\n",
    "                    \"cost_to_company\": (distance_cost[i, j] + time_cost[i, j] + delay_penalty[i, j]),\n",
    "                    \"delivery_time\": order_time_matrix[i, j] #+ orders_df.loc[i, \"ord_packing_time\"]\n",
    "                })\n",
    "\n",
    "    assignments_df = pd.DataFrame(assignments)\n",
    "    order_cols = ['store_id','order_time', 'order_id', 'time_promise','ord_packing_time', 'price']\n",
    "    allocations_df = orders_df[order_cols].merge(assignments_df[['assigned_executive_id','order_id','delivery_time','cost_to_company']],on='order_id',how='left')\n",
    "    \n",
    "    allocations_df =allocations_df.convert_dtypes()\n",
    "\n",
    "    \n",
    "else:\n",
    "    assignments_df = pd.DataFrame()\n",
    "    print(\"No optimal solution found.\")\n",
    "\n"
   ]
  },
  {
   "cell_type": "code",
   "execution_count": 58,
   "metadata": {},
   "outputs": [
    {
     "data": {
      "text/plain": [
       "-2055750.6454373517"
      ]
     },
     "execution_count": 58,
     "metadata": {},
     "output_type": "execute_result"
    }
   ],
   "source": [
    "# review the total cost incurred for all the orders-> value of objective function\n",
    "solver.Objective().Value()"
   ]
  },
  {
   "cell_type": "code",
   "execution_count": 55,
   "metadata": {},
   "outputs": [
    {
     "data": {
      "text/html": [
       "<div>\n",
       "<style scoped>\n",
       "    .dataframe tbody tr th:only-of-type {\n",
       "        vertical-align: middle;\n",
       "    }\n",
       "\n",
       "    .dataframe tbody tr th {\n",
       "        vertical-align: top;\n",
       "    }\n",
       "\n",
       "    .dataframe thead th {\n",
       "        text-align: right;\n",
       "    }\n",
       "</style>\n",
       "<table border=\"1\" class=\"dataframe\">\n",
       "  <thead>\n",
       "    <tr style=\"text-align: right;\">\n",
       "      <th></th>\n",
       "      <th>store_id</th>\n",
       "      <th>order_time</th>\n",
       "      <th>order_id</th>\n",
       "      <th>time_promise</th>\n",
       "      <th>ord_packing_time</th>\n",
       "      <th>price</th>\n",
       "      <th>assigned_executive_id</th>\n",
       "      <th>delivery_time</th>\n",
       "      <th>cost_to_company</th>\n",
       "    </tr>\n",
       "  </thead>\n",
       "  <tbody>\n",
       "    <tr>\n",
       "      <th>0</th>\n",
       "      <td>1</td>\n",
       "      <td>18-Mar-2024 12:22PM</td>\n",
       "      <td>88184699</td>\n",
       "      <td>34</td>\n",
       "      <td>11</td>\n",
       "      <td>325</td>\n",
       "      <td>&lt;NA&gt;</td>\n",
       "      <td>&lt;NA&gt;</td>\n",
       "      <td>&lt;NA&gt;</td>\n",
       "    </tr>\n",
       "    <tr>\n",
       "      <th>1</th>\n",
       "      <td>1</td>\n",
       "      <td>18-Mar-2024 12:19PM</td>\n",
       "      <td>74788581</td>\n",
       "      <td>26</td>\n",
       "      <td>12</td>\n",
       "      <td>578</td>\n",
       "      <td>67585081</td>\n",
       "      <td>14.230482</td>\n",
       "      <td>5.733957</td>\n",
       "    </tr>\n",
       "    <tr>\n",
       "      <th>2</th>\n",
       "      <td>1</td>\n",
       "      <td>18-Mar-2024 12:19PM</td>\n",
       "      <td>50443196</td>\n",
       "      <td>29</td>\n",
       "      <td>10</td>\n",
       "      <td>279</td>\n",
       "      <td>67585009</td>\n",
       "      <td>15.161653</td>\n",
       "      <td>7.935357</td>\n",
       "    </tr>\n",
       "    <tr>\n",
       "      <th>3</th>\n",
       "      <td>1</td>\n",
       "      <td>18-Mar-2024 12:22PM</td>\n",
       "      <td>74272493</td>\n",
       "      <td>29</td>\n",
       "      <td>12</td>\n",
       "      <td>645</td>\n",
       "      <td>67584991</td>\n",
       "      <td>18.256479</td>\n",
       "      <td>8.948544</td>\n",
       "    </tr>\n",
       "    <tr>\n",
       "      <th>4</th>\n",
       "      <td>1</td>\n",
       "      <td>18-Mar-2024 12:20PM</td>\n",
       "      <td>99415675</td>\n",
       "      <td>16</td>\n",
       "      <td>9</td>\n",
       "      <td>433</td>\n",
       "      <td>67585003</td>\n",
       "      <td>15.843999</td>\n",
       "      <td>-632.176594</td>\n",
       "    </tr>\n",
       "    <tr>\n",
       "      <th>...</th>\n",
       "      <td>...</td>\n",
       "      <td>...</td>\n",
       "      <td>...</td>\n",
       "      <td>...</td>\n",
       "      <td>...</td>\n",
       "      <td>...</td>\n",
       "      <td>...</td>\n",
       "      <td>...</td>\n",
       "      <td>...</td>\n",
       "    </tr>\n",
       "    <tr>\n",
       "      <th>441</th>\n",
       "      <td>150</td>\n",
       "      <td>18-Mar-2024 12:18PM</td>\n",
       "      <td>58311614</td>\n",
       "      <td>38</td>\n",
       "      <td>13</td>\n",
       "      <td>219</td>\n",
       "      <td>&lt;NA&gt;</td>\n",
       "      <td>&lt;NA&gt;</td>\n",
       "      <td>&lt;NA&gt;</td>\n",
       "    </tr>\n",
       "    <tr>\n",
       "      <th>442</th>\n",
       "      <td>150</td>\n",
       "      <td>18-Mar-2024 12:20PM</td>\n",
       "      <td>10574214</td>\n",
       "      <td>35</td>\n",
       "      <td>9</td>\n",
       "      <td>525</td>\n",
       "      <td>&lt;NA&gt;</td>\n",
       "      <td>&lt;NA&gt;</td>\n",
       "      <td>&lt;NA&gt;</td>\n",
       "    </tr>\n",
       "    <tr>\n",
       "      <th>443</th>\n",
       "      <td>150</td>\n",
       "      <td>18-Mar-2024 12:18PM</td>\n",
       "      <td>56727371</td>\n",
       "      <td>36</td>\n",
       "      <td>8</td>\n",
       "      <td>496</td>\n",
       "      <td>&lt;NA&gt;</td>\n",
       "      <td>&lt;NA&gt;</td>\n",
       "      <td>&lt;NA&gt;</td>\n",
       "    </tr>\n",
       "    <tr>\n",
       "      <th>444</th>\n",
       "      <td>150</td>\n",
       "      <td>18-Mar-2024 12:20PM</td>\n",
       "      <td>61060721</td>\n",
       "      <td>31</td>\n",
       "      <td>9</td>\n",
       "      <td>396</td>\n",
       "      <td>67584890</td>\n",
       "      <td>16.741374</td>\n",
       "      <td>3.728075</td>\n",
       "    </tr>\n",
       "    <tr>\n",
       "      <th>445</th>\n",
       "      <td>150</td>\n",
       "      <td>18-Mar-2024 12:22PM</td>\n",
       "      <td>32112713</td>\n",
       "      <td>18</td>\n",
       "      <td>9</td>\n",
       "      <td>617</td>\n",
       "      <td>67584807</td>\n",
       "      <td>17.994305</td>\n",
       "      <td>-17547.594333</td>\n",
       "    </tr>\n",
       "  </tbody>\n",
       "</table>\n",
       "<p>446 rows × 9 columns</p>\n",
       "</div>"
      ],
      "text/plain": [
       "     store_id           order_time  order_id  time_promise  ord_packing_time  \\\n",
       "0           1  18-Mar-2024 12:22PM  88184699            34                11   \n",
       "1           1  18-Mar-2024 12:19PM  74788581            26                12   \n",
       "2           1  18-Mar-2024 12:19PM  50443196            29                10   \n",
       "3           1  18-Mar-2024 12:22PM  74272493            29                12   \n",
       "4           1  18-Mar-2024 12:20PM  99415675            16                 9   \n",
       "..        ...                  ...       ...           ...               ...   \n",
       "441       150  18-Mar-2024 12:18PM  58311614            38                13   \n",
       "442       150  18-Mar-2024 12:20PM  10574214            35                 9   \n",
       "443       150  18-Mar-2024 12:18PM  56727371            36                 8   \n",
       "444       150  18-Mar-2024 12:20PM  61060721            31                 9   \n",
       "445       150  18-Mar-2024 12:22PM  32112713            18                 9   \n",
       "\n",
       "     price  assigned_executive_id  delivery_time  cost_to_company  \n",
       "0      325                   <NA>           <NA>             <NA>  \n",
       "1      578               67585081      14.230482         5.733957  \n",
       "2      279               67585009      15.161653         7.935357  \n",
       "3      645               67584991      18.256479         8.948544  \n",
       "4      433               67585003      15.843999      -632.176594  \n",
       "..     ...                    ...            ...              ...  \n",
       "441    219                   <NA>           <NA>             <NA>  \n",
       "442    525                   <NA>           <NA>             <NA>  \n",
       "443    496                   <NA>           <NA>             <NA>  \n",
       "444    396               67584890      16.741374         3.728075  \n",
       "445    617               67584807      17.994305    -17547.594333  \n",
       "\n",
       "[446 rows x 9 columns]"
      ]
     },
     "execution_count": 55,
     "metadata": {},
     "output_type": "execute_result"
    }
   ],
   "source": [
    "#Output results\n",
    "allocations_df"
   ]
  },
  {
   "cell_type": "code",
   "execution_count": 49,
   "metadata": {},
   "outputs": [
    {
     "data": {
      "text/plain": [
       "300"
      ]
     },
     "execution_count": 49,
     "metadata": {},
     "output_type": "execute_result"
    }
   ],
   "source": [
    "#number of order which were assigned for delivery\n",
    "allocations_df.assigned_executive_id.count()\n",
    "\n",
    "# 300 order were assigned"
   ]
  },
  {
   "cell_type": "code",
   "execution_count": 39,
   "metadata": {},
   "outputs": [
    {
     "data": {
      "text/html": [
       "<div>\n",
       "<style scoped>\n",
       "    .dataframe tbody tr th:only-of-type {\n",
       "        vertical-align: middle;\n",
       "    }\n",
       "\n",
       "    .dataframe tbody tr th {\n",
       "        vertical-align: top;\n",
       "    }\n",
       "\n",
       "    .dataframe thead th {\n",
       "        text-align: right;\n",
       "    }\n",
       "</style>\n",
       "<table border=\"1\" class=\"dataframe\">\n",
       "  <thead>\n",
       "    <tr style=\"text-align: right;\">\n",
       "      <th></th>\n",
       "      <th>store_id</th>\n",
       "      <th>store_latitude</th>\n",
       "      <th>store_longitude</th>\n",
       "      <th>customer_latitude</th>\n",
       "      <th>customer_longitude</th>\n",
       "      <th>order_time</th>\n",
       "      <th>order_id</th>\n",
       "      <th>time_promise</th>\n",
       "      <th>ord_packing_time</th>\n",
       "      <th>price</th>\n",
       "      <th>distance</th>\n",
       "      <th>executive_id</th>\n",
       "      <th>delivery_time</th>\n",
       "      <th>cost_to_company</th>\n",
       "    </tr>\n",
       "  </thead>\n",
       "  <tbody>\n",
       "  </tbody>\n",
       "</table>\n",
       "</div>"
      ],
      "text/plain": [
       "Empty DataFrame\n",
       "Columns: [store_id, store_latitude, store_longitude, customer_latitude, customer_longitude, order_time, order_id, time_promise, ord_packing_time, price, distance, executive_id, delivery_time, cost_to_company]\n",
       "Index: []"
      ]
     },
     "execution_count": 39,
     "metadata": {},
     "output_type": "execute_result"
    }
   ],
   "source": [
    "# Review the orders delivery in more than promised time\n",
    "allocations_df.loc[(allocations_df.time_promise < allocations_df.delivery_time)]\n",
    "\n",
    "#0 orders-> all orders met time promised scenario"
   ]
  },
  {
   "cell_type": "code",
   "execution_count": 34,
   "metadata": {},
   "outputs": [
    {
     "data": {
      "text/plain": [
       "146"
      ]
     },
     "execution_count": 34,
     "metadata": {},
     "output_type": "execute_result"
    }
   ],
   "source": [
    "#Order which will remain unassigned due to less number of delivery executive\n",
    "\n",
    "\n",
    "len(allocations_df.loc[allocations_df.executive_id.isna()])\n",
    "\n",
    "#146 order out of 446."
   ]
  }
 ],
 "metadata": {
  "kernelspec": {
   "display_name": "Python 3",
   "language": "python",
   "name": "python3"
  },
  "language_info": {
   "codemirror_mode": {
    "name": "ipython",
    "version": 3
   },
   "file_extension": ".py",
   "mimetype": "text/x-python",
   "name": "python",
   "nbconvert_exporter": "python",
   "pygments_lexer": "ipython3",
   "version": "3.12.3"
  }
 },
 "nbformat": 4,
 "nbformat_minor": 2
}
